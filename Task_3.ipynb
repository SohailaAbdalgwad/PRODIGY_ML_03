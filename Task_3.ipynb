{
 "cells": [
  {
   "cell_type": "code",
   "execution_count": 3,
   "id": "03977d29-64bc-4788-9065-2e20520c9065",
   "metadata": {},
   "outputs": [],
   "source": [
    "import os\n",
    "import numpy as np\n",
    "import cv2\n",
    "import matplotlib.pyplot as plt\n",
    "import pickle\n",
    "import random\n",
    "from sklearn.svm import SVC\n",
    "from sklearn.model_selection import train_test_split\n"
   ]
  },
  {
   "cell_type": "code",
   "execution_count": 9,
   "id": "f5e64d39-a828-4137-8c83-1419eeef8903",
   "metadata": {},
   "outputs": [],
   "source": [
    "dir = \"D:/E-just/PROG STUDY/ML/dog vs cat/train\"\n",
    "categories = ['cat', 'dog']\n",
    "data = []"
   ]
  },
  {
   "cell_type": "code",
   "execution_count": 10,
   "id": "cf954975-31e1-4118-83ef-225311e473c3",
   "metadata": {},
   "outputs": [
    {
     "name": "stdout",
     "output_type": "stream",
     "text": [
      "12500\n",
      "25000\n"
     ]
    }
   ],
   "source": [
    "#loading and reshaping the data\n",
    "for category in categories:\n",
    "    path = os.path.join(dir, category)\n",
    "    label = categories.index(category)\n",
    "    \n",
    "    for img in os.listdir(path):\n",
    "        imagepath = os.path.join(path,img)\n",
    "        pet_img = cv2.imread(imagepath,0)\n",
    "        try:\n",
    "            pet_img = cv2.resize(pet_img,(50,50))\n",
    "            image = np.array(pet_img).flatten()\n",
    "            data.append([image,label])\n",
    "        except Exception as e:\n",
    "            pass\n",
    "    \n",
    "    print(len(data))"
   ]
  },
  {
   "cell_type": "code",
   "execution_count": 11,
   "id": "4c8d5d04-c4d4-4e53-b42e-02ce7b954f72",
   "metadata": {},
   "outputs": [],
   "source": [
    "#saving the processed image data to a file using Python’s pickle module.\n",
    "pick_in = open('data1.pickle', 'wb')\n",
    "pickle.dump(data, pick_in)\n",
    "pick_in.close()"
   ]
  },
  {
   "cell_type": "code",
   "execution_count": 12,
   "id": "f4b56d53-8210-4b8c-a5ae-acb3ddc1f120",
   "metadata": {},
   "outputs": [],
   "source": [
    "#load data\n",
    "pick_in = open('data1.pickle', 'rb')\n",
    "data = pickle.load(pick_in)\n",
    "pick_in.close()"
   ]
  },
  {
   "cell_type": "code",
   "execution_count": 14,
   "id": "f20a4671-2c5a-425b-99d6-d22f7dbdda33",
   "metadata": {},
   "outputs": [],
   "source": [
    "#shuffel data\n",
    "random.shuffle(data)\n",
    "features= []\n",
    "labels= []\n",
    "\n",
    "for feature, label in data:\n",
    "    features.append(feature)\n",
    "    labels.append(label)"
   ]
  },
  {
   "cell_type": "code",
   "execution_count": 15,
   "id": "e7cdea3f-dd2b-4165-b0a8-c3cdaffa5fae",
   "metadata": {},
   "outputs": [],
   "source": [
    "xtrain, xtest, ytrain, ytest = train_test_split(features, labels, test_size=0.25) "
   ]
  },
  {
   "cell_type": "code",
   "execution_count": 10,
   "id": "a569aa17-1bbd-4aa2-81c4-03d168d622be",
   "metadata": {},
   "outputs": [],
   "source": [
    "model = SVC(C=1, kernel='poly', gamma= 'auto')"
   ]
  },
  {
   "cell_type": "code",
   "execution_count": 11,
   "id": "c37cb7bb-9e9d-4ded-96f1-a89b5b22049e",
   "metadata": {},
   "outputs": [],
   "source": [
    "model.fit(xtrain,ytrain)\n",
    "pick= open('model.sav', 'wb')\n",
    "pickle.dump(model,pick)\n",
    "pick.close()"
   ]
  },
  {
   "cell_type": "code",
   "execution_count": 5,
   "id": "93677fca-a5ec-45a2-b872-3fe54c3ebf2c",
   "metadata": {},
   "outputs": [],
   "source": [
    "pick = open('model.sav', 'rb')\n",
    "model =pickle.load(pick)\n",
    "pick.close()"
   ]
  },
  {
   "cell_type": "code",
   "execution_count": 16,
   "id": "4d4c6b3a-04ca-4fd4-be3c-85a0df0db09e",
   "metadata": {},
   "outputs": [],
   "source": [
    "prediction = model.predict(xtest)"
   ]
  },
  {
   "cell_type": "code",
   "execution_count": 17,
   "id": "ee180bab-a376-4709-a2a6-cb9ddba33e69",
   "metadata": {},
   "outputs": [],
   "source": [
    "accuracy = model.score(xtest, ytest)"
   ]
  },
  {
   "cell_type": "code",
   "execution_count": 19,
   "id": "02ad1d60-e9f8-43d6-b8dc-124a07df554f",
   "metadata": {},
   "outputs": [
    {
     "name": "stdout",
     "output_type": "stream",
     "text": [
      "The Accuracy is:  0.9\n"
     ]
    }
   ],
   "source": [
    "print (\"The Accuracy is: \", accuracy)"
   ]
  },
  {
   "cell_type": "code",
   "execution_count": 20,
   "id": "b59a8760-c12b-4285-ac98-2745e037dd9b",
   "metadata": {},
   "outputs": [
    {
     "name": "stdout",
     "output_type": "stream",
     "text": [
      "prediction is :  cat\n"
     ]
    }
   ],
   "source": [
    "print('prediction is : ', categories[prediction[0]])"
   ]
  },
  {
   "cell_type": "code",
   "execution_count": 21,
   "id": "aa163c0d-5698-4ade-9419-55f31817371d",
   "metadata": {},
   "outputs": [
    {
     "data": {
      "image/png": "[encoded data removed]",
      "text/plain": [
       "<Figure size 640x480 with 1 Axes>"
      ]
     },
     "metadata": {},
     "output_type": "display_data"
    }
   ],
   "source": [
    "mypet = xtest[0].reshape(50,50)\n",
    "plt.imshow(mypet,cmap='gray')\n",
    "plt.show()"
   ]
  },
  {
   "cell_type": "code",
   "execution_count": null,
   "id": "7b76395f-97b6-4ba1-bddb-026ec1c7108f",
   "metadata": {},
   "outputs": [],
   "source": []
  }
 ],
 "metadata": {
  "kernelspec": {
   "display_name": "Python 3 (ipykernel)",
   "language": "python",
   "name": "python3"
  },
  "language_info": {
   "codemirror_mode": {
    "name": "ipython",
    "version": 3
   },
   "file_extension": ".py",
   "mimetype": "text/x-python",
   "name": "python",
   "nbconvert_exporter": "python",
   "pygments_lexer": "ipython3",
   "version": "3.10.8"
  }
 },
 "nbformat": 4,
 "nbformat_minor": 5
}
